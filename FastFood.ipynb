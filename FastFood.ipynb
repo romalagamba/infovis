{
  "nbformat": 4,
  "nbformat_minor": 0,
  "metadata": {
    "colab": {
      "name": "Untitled0.ipynb",
      "provenance": [],
      "include_colab_link": true
    },
    "kernelspec": {
      "name": "python3",
      "display_name": "Python 3"
    }
  },
  "cells": [
    {
      "cell_type": "markdown",
      "metadata": {
        "id": "view-in-github",
        "colab_type": "text"
      },
      "source": [
        "<a href=\"https://colab.research.google.com/github/romalagamba/infovis/blob/gh-pages/FastFood.ipynb\" target=\"_parent\"><img src=\"https://colab.research.google.com/assets/colab-badge.svg\" alt=\"Open In Colab\"/></a>"
      ]
    },
    {
      "cell_type": "code",
      "metadata": {
        "id": "QU4XT_gGrK24",
        "colab_type": "code",
        "colab": {}
      },
      "source": [
        "import altair as alt\n",
        "import pandas as pd"
      ],
      "execution_count": 0,
      "outputs": []
    },
    {
      "cell_type": "code",
      "metadata": {
        "id": "P6wc-VhjrTrx",
        "colab_type": "code",
        "colab": {
          "base_uri": "https://localhost:8080/",
          "height": 34
        },
        "outputId": "0736de56-1451-454f-a76a-dce6d7dde477"
      },
      "source": [
        "!pip install feedparser\n"
      ],
      "execution_count": 14,
      "outputs": [
        {
          "output_type": "stream",
          "text": [
            "Requirement already satisfied: feedparser in /usr/local/lib/python3.6/dist-packages (5.2.1)\n"
          ],
          "name": "stdout"
        }
      ]
    },
    {
      "cell_type": "code",
      "metadata": {
        "id": "I051gFSTroIa",
        "colab_type": "code",
        "colab": {
          "base_uri": "https://localhost:8080/",
          "height": 204
        },
        "outputId": "8cb7c08a-f415-450a-fe54-ccb155b06aee"
      },
      "source": [
        "import altair as alt\n",
        "import pandas as pd\n",
        "url= \"https://download.data.world/s/zdepjdaxjthd3vfuhtqq2fhabdsr42\"\n",
        "df= pd.read_csv( url )\n",
        "df.head()"
      ],
      "execution_count": 16,
      "outputs": [
        {
          "output_type": "execute_result",
          "data": {
            "text/html": [
              "<div>\n",
              "<style scoped>\n",
              "    .dataframe tbody tr th:only-of-type {\n",
              "        vertical-align: middle;\n",
              "    }\n",
              "\n",
              "    .dataframe tbody tr th {\n",
              "        vertical-align: top;\n",
              "    }\n",
              "\n",
              "    .dataframe thead th {\n",
              "        text-align: right;\n",
              "    }\n",
              "</style>\n",
              "<table border=\"1\" class=\"dataframe\">\n",
              "  <thead>\n",
              "    <tr style=\"text-align: right;\">\n",
              "      <th></th>\n",
              "      <th>rank</th>\n",
              "      <th>chain</th>\n",
              "      <th>sales</th>\n",
              "      <th>loc</th>\n",
              "      <th>vpl</th>\n",
              "    </tr>\n",
              "  </thead>\n",
              "  <tbody>\n",
              "    <tr>\n",
              "      <th>0</th>\n",
              "      <td>8</td>\n",
              "      <td>Chick-fil-A</td>\n",
              "      <td>9000000000</td>\n",
              "      <td>2225</td>\n",
              "      <td>4044944.0</td>\n",
              "    </tr>\n",
              "    <tr>\n",
              "      <th>1</th>\n",
              "      <td>22</td>\n",
              "      <td>Whataburger</td>\n",
              "      <td>2300000000</td>\n",
              "      <td>821</td>\n",
              "      <td>2801462.0</td>\n",
              "    </tr>\n",
              "    <tr>\n",
              "      <th>2</th>\n",
              "      <td>1</td>\n",
              "      <td>McDonald's</td>\n",
              "      <td>37500000000</td>\n",
              "      <td>14036</td>\n",
              "      <td>2671701.0</td>\n",
              "    </tr>\n",
              "    <tr>\n",
              "      <th>3</th>\n",
              "      <td>25</td>\n",
              "      <td>Zaxby's</td>\n",
              "      <td>2100000000</td>\n",
              "      <td>890</td>\n",
              "      <td>2359551.0</td>\n",
              "    </tr>\n",
              "    <tr>\n",
              "      <th>4</th>\n",
              "      <td>11</td>\n",
              "      <td>Panera Bread</td>\n",
              "      <td>4500000000</td>\n",
              "      <td>2043</td>\n",
              "      <td>2202643.0</td>\n",
              "    </tr>\n",
              "  </tbody>\n",
              "</table>\n",
              "</div>"
            ],
            "text/plain": [
              "   rank         chain        sales    loc        vpl\n",
              "0     8   Chick-fil-A   9000000000   2225  4044944.0\n",
              "1    22   Whataburger   2300000000    821  2801462.0\n",
              "2     1    McDonald's  37500000000  14036  2671701.0\n",
              "3    25       Zaxby's   2100000000    890  2359551.0\n",
              "4    11  Panera Bread   4500000000   2043  2202643.0"
            ]
          },
          "metadata": {
            "tags": []
          },
          "execution_count": 16
        }
      ]
    },
    {
      "cell_type": "code",
      "metadata": {
        "id": "mke4JfaXtRoD",
        "colab_type": "code",
        "colab": {
          "base_uri": "https://localhost:8080/",
          "height": 290
        },
        "outputId": "202bb0b8-ac0f-417a-bce4-fa3d5f595f8a"
      },
      "source": [
        "df.plot.scatter(x = 'loc', y='sales');"
      ],
      "execution_count": 17,
      "outputs": [
        {
          "output_type": "display_data",
          "data": {
            "image/png": "[encoded data removed]",
            "text/plain": [
              "<Figure size 432x288 with 1 Axes>"
            ]
          },
          "metadata": {
            "tags": []
          }
        }
      ]
    },
    {
      "cell_type": "code",
      "metadata": {
        "id": "klVKpWm9stZp",
        "colab_type": "code",
        "colab": {
          "base_uri": "https://localhost:8080/",
          "height": 542
        },
        "outputId": "5ef395ed-5624-4338-cd81-713233f8924e"
      },
      "source": [
        "import altair as alt\n",
        "\n",
        "alt.Chart(df).mark_circle(size=60).encode(\n",
        "    x='loc',\n",
        "    y='sales',\n",
        "    size='vpl',\n",
        "    color='chain:N',\n",
        "    tooltip=['rank', 'chain', 'sales', 'loc', 'vpl']\n",
        ").interactive()\n"
      ],
      "execution_count": 21,
      "outputs": [
        {
          "output_type": "execute_result",
          "data": {
            "text/plain": [
              "alt.Chart(...)"
            ],
            "text/html": [
              "<!DOCTYPE html>\n",
              "<html>\n",
              "<head>\n",
              "  <style>\n",
              "    .error {\n",
              "        color: red;\n",
              "    }\n",
              "  </style>\n",
              "  <script type=\"text/javascript\" src=\"https://cdn.jsdelivr.net/npm//vega@5\"></script>\n",
              "  <script type=\"text/javascript\" src=\"https://cdn.jsdelivr.net/npm//vega-lite@3.4.0\"></script>\n",
              "  <script type=\"text/javascript\" src=\"https://cdn.jsdelivr.net/npm//vega-embed@5\"></script>\n",
              "</head>\n",
              "<body>\n",
              "  <div id=\"altair-viz\"></div>\n",
              "  <script>\n",
              "    (function(vegaEmbed) {\n",
              "      var spec = {\"config\": {\"view\": {\"width\": 400, \"height\": 300}, \"mark\": {\"tooltip\": null}}, \"data\": {\"name\": \"data-20173a44b37c5a2d7f6bc13d106c0c73\"}, \"mark\": {\"type\": \"circle\", \"size\": 60}, \"encoding\": {\"color\": {\"type\": \"nominal\", \"field\": \"chain\"}, \"size\": {\"type\": \"quantitative\", \"field\": \"vpl\"}, \"tooltip\": [{\"type\": \"quantitative\", \"field\": \"rank\"}, {\"type\": \"nominal\", \"field\": \"chain\"}, {\"type\": \"quantitative\", \"field\": \"sales\"}, {\"type\": \"quantitative\", \"field\": \"loc\"}, {\"type\": \"quantitative\", \"field\": \"vpl\"}], \"x\": {\"type\": \"quantitative\", \"field\": \"loc\"}, \"y\": {\"type\": \"quantitative\", \"field\": \"sales\"}}, \"selection\": {\"selector001\": {\"type\": \"interval\", \"bind\": \"scales\", \"encodings\": [\"x\", \"y\"]}}, \"$schema\": \"https://vega.github.io/schema/vega-lite/v3.4.0.json\", \"datasets\": {\"data-20173a44b37c5a2d7f6bc13d106c0c73\": [{\"rank\": 8, \"chain\": \"Chick-fil-A\", \"sales\": 9000000000, \"loc\": 2225, \"vpl\": 4044944.0}, {\"rank\": 22, \"chain\": \"Whataburger\", \"sales\": 2300000000, \"loc\": 821, \"vpl\": 2801462.0}, {\"rank\": 1, \"chain\": \"McDonald's\", \"sales\": 37500000000, \"loc\": 14036, \"vpl\": 2671701.0}, {\"rank\": 25, \"chain\": \"Zaxby's\", \"sales\": 2100000000, \"loc\": 890, \"vpl\": 2359551.0}, {\"rank\": 11, \"chain\": \"Panera Bread\", \"sales\": 4500000000, \"loc\": 2043, \"vpl\": 2202643.0}, {\"rank\": 28, \"chain\": \"Culver's\", \"sales\": 1400000000, \"loc\": 643, \"vpl\": 2177294.0}, {\"rank\": 12, \"chain\": \"Chipotle\", \"sales\": 4500000000, \"loc\": 2371, \"vpl\": 1897933.0}, {\"rank\": 29, \"chain\": \"Bojangles'\", \"sales\": 1300000000, \"loc\": 764, \"vpl\": 1701571.0}, {\"rank\": 6, \"chain\": \"Wendy's\", \"sales\": 9300000000, \"loc\": 5769, \"vpl\": 1612064.0}, {\"rank\": 18, \"chain\": \"Jack in the Box\", \"sales\": 3500000000, \"loc\": 2251, \"vpl\": 1554865.0}, {\"rank\": 5, \"chain\": \"Taco Bell\", \"sales\": 9300000000, \"loc\": 6446, \"vpl\": 1442755.0}, {\"rank\": 19, \"chain\": \"Popeye's\", \"sales\": 3200000000, \"loc\": 2231, \"vpl\": 1434334.0}, {\"rank\": 4, \"chain\": \"Burger King\", \"sales\": 9800000000, \"loc\": 7226, \"vpl\": 1356214.0}, {\"rank\": 26, \"chain\": \"Carl's Jr.\", \"sales\": 1500000000, \"loc\": 1156, \"vpl\": 1297578.0}, {\"rank\": 14, \"chain\": \"Sonic Drive-In\", \"sales\": 4400000000, \"loc\": 3593, \"vpl\": 1224603.0}, {\"rank\": 23, \"chain\": \"Hardee's\", \"sales\": 2200000000, \"loc\": 1864, \"vpl\": 1180258.0}, {\"rank\": 21, \"chain\": \"Panda Express\", \"sales\": 2300000000, \"loc\": 2011, \"vpl\": 1143710.0}, {\"rank\": 13, \"chain\": \"KFC\", \"sales\": 4400000000, \"loc\": 4019, \"vpl\": 1094800.0}, {\"rank\": 30, \"chain\": \"Wingstop\", \"sales\": 1100000000, \"loc\": 1027, \"vpl\": 1071081.0}, {\"rank\": 27, \"chain\": \"Five Guys\", \"sales\": 1400000000, \"loc\": 1321, \"vpl\": 1059803.0}, {\"rank\": 9, \"chain\": \"Domino's\", \"sales\": 5900000000, \"loc\": 5587, \"vpl\": 1056023.0}, {\"rank\": 16, \"chain\": \"Arby's\", \"sales\": 3600000000, \"loc\": 3415, \"vpl\": 1054173.0}, {\"rank\": 2, \"chain\": \"Starbucks\", \"sales\": 13200000000, \"loc\": 13930, \"vpl\": 947595.0}, {\"rank\": 20, \"chain\": \"Papa John's\", \"sales\": 3100000000, \"loc\": 3314, \"vpl\": 935425.0}, {\"rank\": 15, \"chain\": \"Dairy Queen\", \"sales\": 3600000000, \"loc\": 4455, \"vpl\": 808081.0}, {\"rank\": 17, \"chain\": \"Little Caesars\", \"sales\": 3500000000, \"loc\": 4332, \"vpl\": 807941.0}, {\"rank\": 24, \"chain\": \"Jimmy John's\", \"sales\": 2100000000, \"loc\": 2755, \"vpl\": 762250.0}, {\"rank\": 10, \"chain\": \"Pizza Hut\", \"sales\": 5500000000, \"loc\": 7522, \"vpl\": 731189.0}, {\"rank\": 7, \"chain\": \"Dunkin' Donuts\", \"sales\": 5900000000, \"loc\": 12538, \"vpl\": 470569.0}, {\"rank\": 3, \"chain\": \"Subway\", \"sales\": 10800000000, \"loc\": 25908, \"vpl\": 416860.0}]}};\n",
              "      var embedOpt = {\"mode\": \"vega-lite\"};\n",
              "\n",
              "      function showError(el, error){\n",
              "          el.innerHTML = ('<div class=\"error\" style=\"color:red;\">'\n",
              "                          + '<p>JavaScript Error: ' + error.message + '</p>'\n",
              "                          + \"<p>This usually means there's a typo in your chart specification. \"\n",
              "                          + \"See the javascript console for the full traceback.</p>\"\n",
              "                          + '</div>');\n",
              "          throw error;\n",
              "      }\n",
              "      const el = document.getElementById('altair-viz');\n",
              "      vegaEmbed(\"#altair-viz\", spec, embedOpt)\n",
              "        .catch(error => showError(el, error));\n",
              "    })(vegaEmbed);\n",
              "\n",
              "  </script>\n",
              "</body>\n",
              "</html>"
            ]
          },
          "metadata": {
            "tags": []
          },
          "execution_count": 21
        }
      ]
    },
    {
      "cell_type": "code",
      "metadata": {
        "id": "XrnWVa8er3M8",
        "colab_type": "code",
        "colab": {
          "base_uri": "https://localhost:8080/",
          "height": 164
        },
        "outputId": "cc791437-4df0-498a-e84a-40d64f995516"
      },
      "source": [
        "df.info()"
      ],
      "execution_count": 5,
      "outputs": [
        {
          "output_type": "error",
          "ename": "NameError",
          "evalue": "ignored",
          "traceback": [
            "\u001b[0;31m---------------------------------------------------------------------------\u001b[0m",
            "\u001b[0;31mNameError\u001b[0m                                 Traceback (most recent call last)",
            "\u001b[0;32m<ipython-input-5-a74c58233b9e>\u001b[0m in \u001b[0;36m<module>\u001b[0;34m()\u001b[0m\n\u001b[0;32m----> 1\u001b[0;31m \u001b[0mdf\u001b[0m\u001b[0;34m.\u001b[0m\u001b[0minfo\u001b[0m\u001b[0;34m(\u001b[0m\u001b[0;34m)\u001b[0m\u001b[0;34m\u001b[0m\u001b[0;34m\u001b[0m\u001b[0m\n\u001b[0m",
            "\u001b[0;31mNameError\u001b[0m: name 'df' is not defined"
          ]
        }
      ]
    },
    {
      "cell_type": "code",
      "metadata": {
        "id": "x4tPgSrnr63e",
        "colab_type": "code",
        "colab": {}
      },
      "source": [
        ""
      ],
      "execution_count": 0,
      "outputs": []
    }
  ]
}